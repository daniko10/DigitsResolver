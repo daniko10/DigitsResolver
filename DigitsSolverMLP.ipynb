{
 "cells": [
  {
   "cell_type": "code",
   "execution_count": 9,
   "metadata": {
    "id": "n-Uok6rrlDLQ"
   },
   "outputs": [],
   "source": [
    "# Basic imports\n",
    "import torch\n",
    "import torchvision\n",
    "from torchvision import datasets, transforms\n",
    "import torch.nn as nn\n",
    "import torch.nn.functional as F\n",
    "import subprocess\n",
    "from matplotlib import pyplot as plt\n",
    "from torch.utils.tensorboard import SummaryWriter\n",
    "from torch.utils.data import ConcatDataset, DataLoader\n",
    "import os"
   ]
  },
  {
   "cell_type": "code",
   "execution_count": null,
   "metadata": {
    "id": "X34aI10BlFUw"
   },
   "outputs": [],
   "source": [
    "class MLPShallow(nn.Module):\n",
    "    def __init__(self):\n",
    "        super(MLPShallow, self).__init__()\n",
    "        self.input_layer = nn.Linear(28 * 28, 512)\n",
    "        self.hidden_layer_1 = nn.Linear(512, 256)\n",
    "        self.hidden_layer_2 = nn.Linear(256, 128)\n",
    "        self.hidden_layer_3 = nn.Linear(128, 64)\n",
    "        self.output_layer = nn.Linear(64, 10)\n",
    "\n",
    "        self.dropout1 = nn.Dropout(0.2)\n",
    "        self.dropout2 = nn.Dropout(0.2)\n",
    "\n",
    "    def forward(self, x):\n",
    "        x = x.view(-1, 28 * 28)\n",
    "\n",
    "        x = F.relu(self.input_layer(x))\n",
    "        x = self.dropout1(x)\n",
    "\n",
    "        x = F.relu(self.hidden_layer_1(x))\n",
    "        x = self.dropout1(x)\n",
    "\n",
    "        x = F.relu(self.hidden_layer_2(x))\n",
    "        x = self.dropout2(x)\n",
    "\n",
    "        x = F.relu(self.hidden_layer_3(x))\n",
    "        x = self.dropout2(x)\n",
    "\n",
    "        x = self.output_layer(x)\n",
    "        return x\n",
    "\n",
    "model = MLPShallow()"
   ]
  },
  {
   "cell_type": "code",
   "execution_count": null,
   "metadata": {
    "id": "UUFwMN7FlHJB"
   },
   "outputs": [],
   "source": [
    "def to_binary(image):\n",
    "    threshold = 0.5\n",
    "    return (image > 0).float()\n",
    "\n",
    "transform = transforms.Compose([\n",
    "    transforms.Grayscale(num_output_channels=1),\n",
    "    transforms.ToTensor(),\n",
    "    transforms.Normalize((0.5,), (0.5,)),\n",
    "    transforms.Lambda(to_binary)\n",
    "])\n",
    "\n",
    "training_data_mnist = torchvision.datasets.MNIST(root=\"../data\", train=True, transform=transform, download=True)\n",
    "test_data_mnist = torchvision.datasets.MNIST(root=\"../data\", train=False, transform=transform, download=True)\n",
    "\n",
    "training_data_emnist = torchvision.datasets.EMNIST(root=\"../data\", split=\"digits\", train=True, transform=transform, download=True)\n",
    "test_data_emnist = torchvision.datasets.EMNIST(root=\"../data\", split=\"digits\", train=False, transform=transform, download=True)\n",
    "\n",
    "full_dataset_train = ConcatDataset([training_data_mnist, training_data_emnist])\n",
    "full_dataset_test = ConcatDataset([test_data_mnist, test_data_emnist])\n",
    "\n",
    "batch_size = 64\n",
    "data_loader_train = DataLoader(full_dataset_train, batch_size=batch_size, shuffle=True)\n",
    "data_loader_test = DataLoader(full_dataset_test, batch_size=batch_size, shuffle=True)"
   ]
  },
  {
   "cell_type": "code",
   "execution_count": null,
   "metadata": {
    "id": "-jSErKlMlKlC"
   },
   "outputs": [],
   "source": [
    "loss_function = nn.CrossEntropyLoss()\n",
    "optimizer = torch.optim.AdamW(model.parameters(), lr=0.001)"
   ]
  },
  {
   "cell_type": "code",
   "execution_count": null,
   "metadata": {
    "colab": {
     "base_uri": "https://localhost:8080/"
    },
    "id": "gFRDeQoGlMcL",
    "outputId": "6892665c-05b5-4517-b3bc-1ef7b97127bb"
   },
   "outputs": [
    {
     "name": "stdout",
     "output_type": "stream",
     "text": [
      "Training Loss: 0.481 | Training acc: 87.699 for epoch:  0\n",
      "Training Loss: 0.266 | Training acc: 93.440 for epoch:  1\n",
      "Training Loss: 0.225 | Training acc: 94.519 for epoch:  2\n"
     ]
    }
   ],
   "source": [
    "Epochs = 3\n",
    "for epoch in range(Epochs):\n",
    "  training_loss = 0.0\n",
    "  correct = 0\n",
    "  total = 0\n",
    "  for i, data in enumerate(data_loader_train, 0):\n",
    "    inputs, labels = data\n",
    "    inputs = inputs.view(inputs.shape[0], -1)\n",
    "\n",
    "    optimizer.zero_grad()\n",
    "\n",
    "    outputs = model(inputs)\n",
    "    loss = loss_function(outputs, labels)\n",
    "    loss.backward()\n",
    "    optimizer.step()\n",
    "\n",
    "    training_loss += loss.item()\n",
    "    _, predicted = outputs.max(1)\n",
    "    total += labels.size(0)\n",
    "    correct += predicted.eq(labels).sum().item()\n",
    "    avg_loss = training_loss / (i + 1)\n",
    "    avg_acc = 100. * correct / total\n",
    "  print(f'Training Loss: {avg_loss:.3f} | Training acc: {avg_acc:.3f}', 'for epoch: ', epoch)"
   ]
  },
  {
   "cell_type": "code",
   "execution_count": 14,
   "metadata": {
    "colab": {
     "base_uri": "https://localhost:8080/"
    },
    "id": "YJXohrBcmLWY",
    "outputId": "6c949ce7-bc10-4877-c6cd-5d5a87d1b16c"
   },
   "outputs": [
    {
     "name": "stdout",
     "output_type": "stream",
     "text": [
      "Model saved to 'cnn.pth'\n"
     ]
    }
   ],
   "source": [
    "torch.save(model.state_dict(), 'cnn_6.pth')\n",
    "print(\"Model saved to 'cnn.pth'\")"
   ]
  },
  {
   "cell_type": "code",
   "execution_count": null,
   "metadata": {
    "colab": {
     "base_uri": "https://localhost:8080/"
    },
    "id": "2labjVd2mNKw",
    "outputId": "3786791c-dfc2-4a14-99a7-23eed3f11235"
   },
   "outputs": [
    {
     "name": "stdout",
     "output_type": "stream",
     "text": [
      "\n",
      "Test set: Avg. loss: -7.0817, Accuracy: 48826/50000 (98%)\n",
      "\n"
     ]
    }
   ],
   "source": [
    "model.eval()\n",
    "test_loss = 0\n",
    "correct = 0\n",
    "with torch.no_grad():\n",
    "    for i, (image, label) in enumerate(data_loader_test):\n",
    "      image = image.view(image.shape[0], -1)\n",
    "      output = model(image)\n",
    "      test_loss += F.nll_loss(output, label, reduction='sum').item()\n",
    "      pred = output.data.max(1, keepdim=True)[1]\n",
    "      correct += pred.eq(label.data.view_as(pred)).sum()\n",
    "    test_loss /= len(data_loader_test.dataset)\n",
    "    print('\\nTest set: Avg. loss: {:.4f}, Accuracy: {}/{} ({:.0f}%)\\n'.format(test_loss, correct, len(data_loader_test.dataset), 100. * correct / len(data_loader_test.dataset)))"
   ]
  }
 ],
 "metadata": {
  "colab": {
   "provenance": []
  },
  "kernelspec": {
   "display_name": "Python 3",
   "name": "python3"
  },
  "language_info": {
   "name": "python"
  }
 },
 "nbformat": 4,
 "nbformat_minor": 0
}
